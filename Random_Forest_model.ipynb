{
  "nbformat": 4,
  "nbformat_minor": 0,
  "metadata": {
    "colab": {
      "provenance": []
    },
    "kernelspec": {
      "name": "python3",
      "display_name": "Python 3"
    },
    "language_info": {
      "name": "python"
    }
  },
  "cells": [
    {
      "cell_type": "code",
      "source": [
        "%pip install isodate"
      ],
      "metadata": {
        "colab": {
          "base_uri": "https://localhost:8080/"
        },
        "id": "DrvkFH4VvUIs",
        "outputId": "e98d2d1e-cfbb-438f-eb70-31ada5c02a5a"
      },
      "execution_count": null,
      "outputs": [
        {
          "output_type": "stream",
          "name": "stdout",
          "text": [
            "Collecting isodate\n",
            "  Downloading isodate-0.7.2-py3-none-any.whl.metadata (11 kB)\n",
            "Downloading isodate-0.7.2-py3-none-any.whl (22 kB)\n",
            "Installing collected packages: isodate\n",
            "Successfully installed isodate-0.7.2\n"
          ]
        }
      ]
    },
    {
      "cell_type": "code",
      "source": [
        "\n",
        "# Import libraries\n",
        "import pandas as pd\n",
        "import numpy as np\n",
        "from sklearn.model_selection import train_test_split\n",
        "from sklearn.preprocessing import LabelEncoder\n",
        "from sklearn.ensemble import RandomForestClassifier\n",
        "from sklearn.metrics import classification_report\n",
        "import isodate  # For converting duration format like PT11M7S\n",
        "\n",
        "# Load the dataset\n",
        "df = pd.read_csv('/content/primary_data.csv')  # Change the file name as needed\n",
        "\n",
        "# Clean column names (remove extra spaces)\n",
        "df.columns = df.columns.str.strip()\n",
        "\n",
        "# Convert Duration column from string to minutes\n",
        "def convert_duration(duration_str):\n",
        "    try:\n",
        "        duration = isodate.parse_duration(duration_str)\n",
        "        return duration.total_seconds() / 60  # Convert to minutes\n",
        "    except:\n",
        "        return np.nan\n",
        "\n",
        "df['Duration'] = df['Duration'].apply(convert_duration)\n",
        "\n",
        "# Drop rows with unconvertible duration values\n",
        "df.dropna(subset=['Duration'], inplace=True)\n",
        "\n",
        "# Create a \"Popularity\" column based on number of views\n",
        "threshold = df['Views'].quantile(0.75)  # Use top 25% as popular\n",
        "df['Popularity'] = df['Views'].apply(lambda x: 1 if x >= threshold else 0)\n",
        "\n",
        "# Select features that may influence popularity\n",
        "features = ['Duration', 'Likes', 'Comments', 'Language', 'Topic', 'Publication Time', 'Region']\n",
        "X = df[features]\n",
        "y = df['Popularity']\n",
        "\n",
        "# Convert categorical values to numeric\n",
        "label_cols = ['Language', 'Topic', 'Publication Time', 'Region']\n",
        "le = LabelEncoder()\n",
        "for col in label_cols:\n",
        "    X[col] = le.fit_transform(X[col])\n",
        "\n",
        "# Split the data into training and testing sets\n",
        "X_train, X_test, y_train, y_test = train_test_split(X, y, test_size=0.2, random_state=42)\n",
        "\n",
        "# Train a Random Forest model\n",
        "rf_model = RandomForestClassifier(n_estimators=100, random_state=42)\n",
        "rf_model.fit(X_train, y_train)\n",
        "\n",
        "# Prediction and evaluation\n",
        "y_pred_rf = rf_model.predict(X_test)\n",
        "print(\"Random Forest Classification Report:\")\n",
        "print(classification_report(y_test, y_pred_rf))\n",
        "\n",
        "# Display first few rows of the dataset\n",
        "print(df.head())\n"
      ],
      "metadata": {
        "colab": {
          "base_uri": "https://localhost:8080/"
        },
        "id": "jy0oJbGdv5gS",
        "outputId": "b1fb2951-7f53-4b6f-ea0d-6305c3b4bcce"
      },
      "execution_count": null,
      "outputs": [
        {
          "output_type": "stream",
          "name": "stderr",
          "text": [
            "<ipython-input-4-52cd818eb302>:42: SettingWithCopyWarning: \n",
            "A value is trying to be set on a copy of a slice from a DataFrame.\n",
            "Try using .loc[row_indexer,col_indexer] = value instead\n",
            "\n",
            "See the caveats in the documentation: https://pandas.pydata.org/pandas-docs/stable/user_guide/indexing.html#returning-a-view-versus-a-copy\n",
            "  X[col] = le.fit_transform(X[col])\n",
            "<ipython-input-4-52cd818eb302>:42: SettingWithCopyWarning: \n",
            "A value is trying to be set on a copy of a slice from a DataFrame.\n",
            "Try using .loc[row_indexer,col_indexer] = value instead\n",
            "\n",
            "See the caveats in the documentation: https://pandas.pydata.org/pandas-docs/stable/user_guide/indexing.html#returning-a-view-versus-a-copy\n",
            "  X[col] = le.fit_transform(X[col])\n",
            "<ipython-input-4-52cd818eb302>:42: SettingWithCopyWarning: \n",
            "A value is trying to be set on a copy of a slice from a DataFrame.\n",
            "Try using .loc[row_indexer,col_indexer] = value instead\n",
            "\n",
            "See the caveats in the documentation: https://pandas.pydata.org/pandas-docs/stable/user_guide/indexing.html#returning-a-view-versus-a-copy\n",
            "  X[col] = le.fit_transform(X[col])\n",
            "<ipython-input-4-52cd818eb302>:42: SettingWithCopyWarning: \n",
            "A value is trying to be set on a copy of a slice from a DataFrame.\n",
            "Try using .loc[row_indexer,col_indexer] = value instead\n",
            "\n",
            "See the caveats in the documentation: https://pandas.pydata.org/pandas-docs/stable/user_guide/indexing.html#returning-a-view-versus-a-copy\n",
            "  X[col] = le.fit_transform(X[col])\n"
          ]
        },
        {
          "output_type": "stream",
          "name": "stdout",
          "text": [
            "Random Forest Classification Report:\n",
            "              precision    recall  f1-score   support\n",
            "\n",
            "           0       0.94      0.97      0.96       377\n",
            "           1       0.90      0.83      0.86       126\n",
            "\n",
            "    accuracy                           0.93       503\n",
            "   macro avg       0.92      0.90      0.91       503\n",
            "weighted avg       0.93      0.93      0.93       503\n",
            "\n"
          ]
        }
      ]
    }
  ]
}