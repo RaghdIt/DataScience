{
 "cells": [
  {
   "cell_type": "markdown",
   "id": "539f4b0c",
   "metadata": {},
   "source": [
    "# 📊 Classification Modelling Task\n",
    "This notebook implements three classification models:\n",
    "- Baseline: Logistic Regression\n",
    "- Model 1: Random Forest Classifier\n",
    "- Model 2: Support Vector Machine (SVM)\n",
    "\n",
    "We will evaluate them using accuracy, F1-score, and confusion matrix to select the best-performing model."
   ]
  },
  {
   "cell_type": "code",
   "execution_count": null,
   "id": "dd2556d2",
   "metadata": {},
   "outputs": [],
   "source": [
    "import pandas as pd\n",
    "import numpy as np\n",
    "from sklearn.model_selection import train_test_split\n",
    "from sklearn.preprocessing import StandardScaler\n",
    "from sklearn.linear_model import LogisticRegression\n",
    "from sklearn.ensemble import RandomForestClassifier\n",
    "from sklearn.svm import SVC\n",
    "from sklearn.metrics import accuracy_score, f1_score, classification_report, confusion_matrix, ConfusionMatrixDisplay\n",
    "import matplotlib.pyplot as plt\n",
    "import seaborn as sns\n"
   ]
  },
  {
   "cell_type": "code",
   "execution_count": null,
   "id": "e13af290",
   "metadata": {},
   "outputs": [],
   "source": [
    "# Load processed dataset\n",
    "df = pd.read_csv(\"processed_data.csv\")\n",
    "\n",
    "# Preview data\n",
    "df.head()\n"
   ]
  },
  {
   "cell_type": "code",
   "execution_count": null,
   "id": "e63f2dc1",
   "metadata": {},
   "outputs": [],
   "source": [
    "# Separate features and target\n",
    "X = df.drop('target', axis=1)  # 🔁 Replace 'target' with your actual target column\n",
    "y = df['target']\n"
   ]
  },
  {
   "cell_type": "code",
   "execution_count": null,
   "id": "4f72c96e",
   "metadata": {},
   "outputs": [],
   "source": [
    "# Split the dataset\n",
    "X_train, X_test, y_train, y_test = train_test_split(X, y, test_size=0.2, random_state=42)\n"
   ]
  },
  {
   "cell_type": "code",
   "execution_count": null,
   "id": "f23e9297",
   "metadata": {},
   "outputs": [],
   "source": [
    "# Standardize features\n",
    "scaler = StandardScaler()\n",
    "X_train_scaled = scaler.fit_transform(X_train)\n",
    "X_test_scaled = scaler.transform(X_test)\n"
   ]
  },
  {
   "cell_type": "code",
   "execution_count": null,
   "id": "f51e7506",
   "metadata": {},
   "outputs": [],
   "source": [
    "# Baseline: Logistic Regression\n",
    "log_model = LogisticRegression()\n",
    "log_model.fit(X_train_scaled, y_train)\n",
    "log_preds = log_model.predict(X_test_scaled)\n",
    "\n",
    "print(\"Logistic Regression\")\n",
    "print(\"Accuracy:\", accuracy_score(y_test, log_preds))\n",
    "print(\"F1 Score:\", f1_score(y_test, log_preds, average='weighted'))\n",
    "print(confusion_matrix(y_test, log_preds))\n"
   ]
  },
  {
   "cell_type": "code",
   "execution_count": null,
   "id": "fd70192e",
   "metadata": {},
   "outputs": [],
   "source": [
    "# Model 1: Random Forest\n",
    "rf_model = RandomForestClassifier(random_state=42)\n",
    "rf_model.fit(X_train, y_train)\n",
    "rf_preds = rf_model.predict(X_test)\n",
    "\n",
    "print(\"Random Forest\")\n",
    "print(\"Accuracy:\", accuracy_score(y_test, rf_preds))\n",
    "print(\"F1 Score:\", f1_score(y_test, rf_preds, average='weighted'))\n",
    "print(confusion_matrix(y_test, rf_preds))\n"
   ]
  },
  {
   "cell_type": "code",
   "execution_count": null,
   "id": "0a5d9bb1",
   "metadata": {},
   "outputs": [],
   "source": [
    "# Model 2: Support Vector Machine (SVM)\n",
    "svm_model = SVC()\n",
    "svm_model.fit(X_train_scaled, y_train)\n",
    "svm_preds = svm_model.predict(X_test_scaled)\n",
    "\n",
    "print(\"SVM\")\n",
    "print(\"Accuracy:\", accuracy_score(y_test, svm_preds))\n",
    "print(\"F1 Score:\", f1_score(y_test, svm_preds, average='weighted'))\n",
    "print(confusion_matrix(y_test, svm_preds))\n"
   ]
  },
  {
   "cell_type": "code",
   "execution_count": null,
   "id": "adec1420",
   "metadata": {},
   "outputs": [],
   "source": [
    "# Compare performance\n",
    "results = {\n",
    "    \"Model\": [\"Logistic Regression\", \"Random Forest\", \"SVM\"],\n",
    "    \"Accuracy\": [\n",
    "        accuracy_score(y_test, log_preds),\n",
    "        accuracy_score(y_test, rf_preds),\n",
    "        accuracy_score(y_test, svm_preds)\n",
    "    ],\n",
    "    \"F1 Score\": [\n",
    "        f1_score(y_test, log_preds, average='weighted'),\n",
    "        f1_score(y_test, rf_preds, average='weighted'),\n",
    "        f1_score(y_test, svm_preds, average='weighted')\n",
    "    ]\n",
    "}\n",
    "\n",
    "results_df = pd.DataFrame(results)\n",
    "results_df.sort_values(by='F1 Score', ascending=False)\n"
   ]
  }
 ],
 "metadata": {},
 "nbformat": 4,
 "nbformat_minor": 5
}
