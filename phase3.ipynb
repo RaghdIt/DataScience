{
 "cells": [
  {
   "cell_type": "markdown",
   "id": "10596d46",
   "metadata": {},
   "source": [
    "# 📊 Modelling Task – Classification\n",
    "**Goal**: Predict video popularity using three different models:\n",
    "- Baseline: Logistic Regression\n",
    "- Model 1: Random Forest Classifier\n",
    "- Model 2: Support Vector Machine (SVM)\n",
    "\n",
    "Each model uses the same features: topic, language, duration, and publication hour.\n",
    "The target variable is whether the video is trending (above median views)."
   ]
  },
  {
   "cell_type": "markdown",
   "id": "6c251a56",
   "metadata": {},
   "source": [
    "## 1️⃣ Baseline Model – Logistic Regression"
   ]
  },
  {
   "cell_type": "code",
   "execution_count": 4,
   "id": "691c6bae",
   "metadata": {},
   "outputs": [
    {
     "name": "stdout",
     "output_type": "stream",
     "text": [
      "✅ Baseline Logistic Regression Accuracy: 0.6317204301075269\n",
      "\n",
      "🔍 Classification Report:\n",
      "               precision    recall  f1-score   support\n",
      "\n",
      "           0       0.64      0.62      0.63       187\n",
      "           1       0.63      0.64      0.63       185\n",
      "\n",
      "    accuracy                           0.63       372\n",
      "   macro avg       0.63      0.63      0.63       372\n",
      "weighted avg       0.63      0.63      0.63       372\n",
      "\n",
      "\n",
      "📊 Confusion Matrix:\n",
      " [[116  71]\n",
      " [ 66 119]]\n"
     ]
    },
    {
     "name": "stderr",
     "output_type": "stream",
     "text": [
      "/home/codespace/.local/lib/python3.12/site-packages/sklearn/linear_model/_logistic.py:465: ConvergenceWarning: lbfgs failed to converge (status=1):\n",
      "STOP: TOTAL NO. OF ITERATIONS REACHED LIMIT.\n",
      "\n",
      "Increase the number of iterations (max_iter) or scale the data as shown in:\n",
      "    https://scikit-learn.org/stable/modules/preprocessing.html\n",
      "Please also refer to the documentation for alternative solver options:\n",
      "    https://scikit-learn.org/stable/modules/linear_model.html#logistic-regression\n",
      "  n_iter_i = _check_optimize_result(\n"
     ]
    }
   ],
   "source": [
    "import pandas as pd\n",
    "from sklearn.model_selection import train_test_split\n",
    "from sklearn.preprocessing import StandardScaler\n",
    "\n",
    "# Load dataset\n",
    "df = pd.read_csv(\"processed_data.csv\")\n",
    "\n",
    "# Preprocessing\n",
    "df['Views'] = pd.to_numeric(df['Views'], errors='coerce')\n",
    "df['Duration'] = pd.to_numeric(df['Duration'], errors='coerce')\n",
    "df['Publication Time'] = pd.to_datetime(df['Publication Time'], errors='coerce')\n",
    "df.dropna(subset=['Views', 'Duration', 'Publication Time'], inplace=True)\n",
    "\n",
    "# Create target\n",
    "df['Trending'] = (df['Views'] > df['Views'].median()).astype(int)\n",
    "\n",
    "# Features\n",
    "topic_cols = [col for col in df.columns if col.startswith('Topic_')]\n",
    "lang_cols = [col for col in df.columns if col.startswith('Language_')]\n",
    "df['Hour'] = df['Publication Time'].dt.hour\n",
    "\n",
    "X = df[topic_cols + lang_cols + ['Duration', 'Hour']]\n",
    "y = df['Trending']\n",
    "\n",
    "# Split data\n",
    "X_train, X_test, y_train, y_test = train_test_split(X, y, test_size=0.2, random_state=42)\n",
    "from sklearn.linear_model import LogisticRegression\n",
    "from sklearn.metrics import accuracy_score, classification_report, confusion_matrix\n",
    "\n",
    "# Baseline model\n",
    "model = LogisticRegression(max_iter=1000)\n",
    "model.fit(X_train, y_train)\n",
    "\n",
    "# Predict\n",
    "y_pred = model.predict(X_test)\n",
    "\n",
    "# Evaluation\n",
    "print(\"✅ Baseline Logistic Regression Accuracy:\", accuracy_score(y_test, y_pred))\n",
    "print(\"\\n🔍 Classification Report:\\n\", classification_report(y_test, y_pred))\n",
    "print(\"\\n📊 Confusion Matrix:\\n\", confusion_matrix(y_test, y_pred))\n"
   ]
  },
  {
   "cell_type": "markdown",
   "id": "cbd7b44d",
   "metadata": {},
   "source": [
    "## 2️⃣ Model 1 – Random Forest Classifier"
   ]
  },
  {
   "cell_type": "code",
   "execution_count": 5,
   "id": "f7afc464",
   "metadata": {},
   "outputs": [
    {
     "name": "stdout",
     "output_type": "stream",
     "text": [
      "✅ Random Forest Accuracy: 0.6290322580645161\n",
      "\n",
      "🔍 Classification Report:\n",
      "               precision    recall  f1-score   support\n",
      "\n",
      "           0       0.62      0.67      0.65       187\n",
      "           1       0.64      0.58      0.61       185\n",
      "\n",
      "    accuracy                           0.63       372\n",
      "   macro avg       0.63      0.63      0.63       372\n",
      "weighted avg       0.63      0.63      0.63       372\n",
      "\n",
      "\n",
      "📊 Confusion Matrix:\n",
      " [[126  61]\n",
      " [ 77 108]]\n"
     ]
    }
   ],
   "source": [
    "import pandas as pd\n",
    "from sklearn.model_selection import train_test_split\n",
    "from sklearn.ensemble import RandomForestClassifier\n",
    "from sklearn.metrics import classification_report, accuracy_score, confusion_matrix\n",
    "\n",
    "# Load dataset\n",
    "df = pd.read_csv(\"processed_data.csv\")\n",
    "\n",
    "# Preprocessing\n",
    "df['Views'] = pd.to_numeric(df['Views'], errors='coerce')\n",
    "df['Duration'] = pd.to_numeric(df['Duration'], errors='coerce')\n",
    "df['Publication Time'] = pd.to_datetime(df['Publication Time'], errors='coerce')\n",
    "df.dropna(subset=['Views', 'Duration', 'Publication Time'], inplace=True)\n",
    "\n",
    "# Create target\n",
    "df['Trending'] = (df['Views'] > df['Views'].median()).astype(int)\n",
    "\n",
    "# Features\n",
    "topic_cols = [col for col in df.columns if col.startswith('Topic_')]\n",
    "lang_cols = [col for col in df.columns if col.startswith('Language_')]\n",
    "df['Hour'] = df['Publication Time'].dt.hour\n",
    "\n",
    "X = df[topic_cols + lang_cols + ['Duration', 'Hour']]\n",
    "y = df['Trending']\n",
    "\n",
    "# Split the data\n",
    "X_train, X_test, y_train, y_test = train_test_split(X, y, test_size=0.2, random_state=42)\n",
    "\n",
    "# Train a Random Forest model\n",
    "rf_model = RandomForestClassifier(n_estimators=100, random_state=42)\n",
    "rf_model.fit(X_train, y_train)\n",
    "\n",
    "# Prediction and evaluation\n",
    "y_pred_rf = rf_model.predict(X_test)\n",
    "print(\"✅ Random Forest Accuracy:\", accuracy_score(y_test, y_pred_rf))\n",
    "print(\"\\n🔍 Classification Report:\\n\", classification_report(y_test, y_pred_rf))\n",
    "print(\"\\n📊 Confusion Matrix:\\n\", confusion_matrix(y_test, y_pred_rf))\n"
   ]
  },
  {
   "cell_type": "markdown",
   "id": "213a7349",
   "metadata": {},
   "source": [
    "## 3️⃣ Model 2 – Support Vector Machine (SVM)"
   ]
  },
  {
   "cell_type": "code",
   "execution_count": 6,
   "id": "15a32fbd",
   "metadata": {},
   "outputs": [
    {
     "name": "stdout",
     "output_type": "stream",
     "text": [
      "✅ SVM Accuracy: 0.6182795698924731\n",
      "\n",
      "🔍 Classification Report:\n",
      "               precision    recall  f1-score   support\n",
      "\n",
      "           0       0.62      0.64      0.63       187\n",
      "           1       0.62      0.60      0.61       185\n",
      "\n",
      "    accuracy                           0.62       372\n",
      "   macro avg       0.62      0.62      0.62       372\n",
      "weighted avg       0.62      0.62      0.62       372\n",
      "\n",
      "\n",
      "📊 Confusion Matrix:\n",
      " [[119  68]\n",
      " [ 74 111]]\n"
     ]
    }
   ],
   "source": [
    "import pandas as pd\n",
    "from sklearn.model_selection import train_test_split\n",
    "from sklearn.preprocessing import StandardScaler\n",
    "from sklearn.svm import SVC\n",
    "from sklearn.metrics import accuracy_score, classification_report, confusion_matrix\n",
    "\n",
    "# Load dataset\n",
    "df = pd.read_csv(\"processed_data.csv\")\n",
    "\n",
    "# Preprocessing\n",
    "df['Views'] = pd.to_numeric(df['Views'], errors='coerce')\n",
    "df['Duration'] = pd.to_numeric(df['Duration'], errors='coerce')\n",
    "df['Publication Time'] = pd.to_datetime(df['Publication Time'], errors='coerce')\n",
    "df.dropna(subset=['Views', 'Duration', 'Publication Time'], inplace=True)\n",
    "\n",
    "# Create target\n",
    "df['Trending'] = (df['Views'] > df['Views'].median()).astype(int)\n",
    "\n",
    "# Features\n",
    "topic_cols = [col for col in df.columns if col.startswith('Topic_')]\n",
    "lang_cols = [col for col in df.columns if col.startswith('Language_')]\n",
    "df['Hour'] = df['Publication Time'].dt.hour\n",
    "\n",
    "X = df[topic_cols + lang_cols + ['Duration', 'Hour']]\n",
    "y = df['Trending']\n",
    "\n",
    "# Split data\n",
    "X_train, X_test, y_train, y_test = train_test_split(X, y, test_size=0.2, random_state=42)\n",
    "\n",
    "# Feature scaling (important for SVM)\n",
    "scaler = StandardScaler()\n",
    "X_train_scaled = scaler.fit_transform(X_train)\n",
    "X_test_scaled = scaler.transform(X_test)\n",
    "\n",
    "# SVM model\n",
    "svm_model = SVC()\n",
    "svm_model.fit(X_train_scaled, y_train)\n",
    "\n",
    "# Predict\n",
    "y_pred_svm = svm_model.predict(X_test_scaled)\n",
    "\n",
    "# Evaluation\n",
    "print(\"✅ SVM Accuracy:\", accuracy_score(y_test, y_pred_svm))\n",
    "print(\"\\n🔍 Classification Report:\\n\", classification_report(y_test, y_pred_svm))\n",
    "print(\"\\n📊 Confusion Matrix:\\n\", confusion_matrix(y_test, y_pred_svm))\n"
   ]
  }
 ],
 "metadata": {
  "kernelspec": {
   "display_name": "Python 3",
   "language": "python",
   "name": "python3"
  },
  "language_info": {
   "codemirror_mode": {
    "name": "ipython",
    "version": 3
   },
   "file_extension": ".py",
   "mimetype": "text/x-python",
   "name": "python",
   "nbconvert_exporter": "python",
   "pygments_lexer": "ipython3",
   "version": "3.12.1"
  }
 },
 "nbformat": 4,
 "nbformat_minor": 5
}
