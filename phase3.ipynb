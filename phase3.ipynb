{
 "cells": [
  {
   "cell_type": "markdown",
   "id": "10596d46",
   "metadata": {},
   "source": [
    "# 📊 Modelling Task – Classification\n",
    "**Goal**: Predict video popularity using three different models:\n",
    "- Baseline: Logistic Regression\n",
    "- Model 1: Random Forest Classifier\n",
    "- Model 2: Support Vector Machine (SVM)\n",
    "\n",
    "Each model uses the same features: topic, language, duration, and publication hour.\n",
    "The target variable is whether the video is trending (above median views)."
   ]
  },
  {
   "cell_type": "markdown",
   "id": "6c251a56",
   "metadata": {},
   "source": [
    "## 1️⃣ Baseline Model"
   ]
  },
  {
   "cell_type": "code",
   "execution_count": 2,
   "id": "691c6bae",
   "metadata": {},
   "outputs": [
    {
     "name": "stdout",
     "output_type": "stream",
     "text": [
      "Model Accuracy: 49.7312%\n",
      "\n",
      "Classification Report:\n",
      "               precision    recall  f1-score   support\n",
      "\n",
      "           0       0.00      0.00      0.00       187\n",
      "           1       0.50      1.00      0.66       185\n",
      "\n",
      "    accuracy                           0.50       372\n",
      "   macro avg       0.25      0.50      0.33       372\n",
      "weighted avg       0.25      0.50      0.33       372\n",
      "\n",
      "\n",
      "Confusion Matrix:\n",
      "           Predicted 0  Predicted 1\n",
      "Actual 0            0          187\n",
      "Actual 1            0          185\n"
     ]
    },
    {
     "name": "stderr",
     "output_type": "stream",
     "text": [
      "/home/codespace/.local/lib/python3.12/site-packages/sklearn/metrics/_classification.py:1565: UndefinedMetricWarning: Precision is ill-defined and being set to 0.0 in labels with no predicted samples. Use `zero_division` parameter to control this behavior.\n",
      "  _warn_prf(average, modifier, f\"{metric.capitalize()} is\", len(result))\n",
      "/home/codespace/.local/lib/python3.12/site-packages/sklearn/metrics/_classification.py:1565: UndefinedMetricWarning: Precision is ill-defined and being set to 0.0 in labels with no predicted samples. Use `zero_division` parameter to control this behavior.\n",
      "  _warn_prf(average, modifier, f\"{metric.capitalize()} is\", len(result))\n",
      "/home/codespace/.local/lib/python3.12/site-packages/sklearn/metrics/_classification.py:1565: UndefinedMetricWarning: Precision is ill-defined and being set to 0.0 in labels with no predicted samples. Use `zero_division` parameter to control this behavior.\n",
      "  _warn_prf(average, modifier, f\"{metric.capitalize()} is\", len(result))\n"
     ]
    }
   ],
   "source": [
    "import pandas as pd\n",
    "from sklearn.model_selection import train_test_split\n",
    "from sklearn.dummy import DummyClassifier\n",
    "from sklearn.metrics import accuracy_score, classification_report, confusion_matrix\n",
    "\n",
    "# Load the uploaded CSV file\n",
    "file_path = \"processed_data.csv\"\n",
    "df = pd.read_csv(file_path)\n",
    "\n",
    "# Step 1: Create the target variable (Trending: 1 if Views > median, else 0)\n",
    "median_views = df['Views'].median()\n",
    "df['Trending'] = (df['Views'] > median_views).astype(int)\n",
    "\n",
    "# Step 2: Define features and target\n",
    "X = df.drop(columns=['Video ID', 'Title', 'Views', 'Publication Time', 'Region', 'Trending'])\n",
    "y = df['Trending']\n",
    "\n",
    "# Step 3: Train-test split\n",
    "X_train, X_test, y_train, y_test = train_test_split(X, y, test_size=0.2, random_state=42)\n",
    "\n",
    "# Step 4: Null model (predicts most frequent class)\n",
    "null_model = DummyClassifier(strategy=\"most_frequent\")\n",
    "null_model.fit(X_train, y_train)\n",
    "y_pred = null_model.predict(X_test)\n",
    "\n",
    "# Step 5: Evaluate\n",
    "accuracy = accuracy_score(y_test, y_pred)\n",
    "report = classification_report(y_test, y_pred)\n",
    "conf_matrix = confusion_matrix(y_test, y_pred)\n",
    "\n",
    "# Create a DataFrame for the confusion matrix\n",
    "conf_matrix_df = pd.DataFrame(conf_matrix, index=['Actual 0', 'Actual 1'], columns=['Predicted 0', 'Predicted 1'])\n",
    "\n",
    "# Print the results in a readable format\n",
    "print(f\"Model Accuracy: {accuracy * 100:.4f}%\")  # Prints accuracy as a percentage\n",
    "print(\"\\nClassification Report:\\n\", report)\n",
    "print(\"\\nConfusion Matrix:\\n\", conf_matrix_df)\n"
   ]
  },
  {
   "cell_type": "markdown",
   "id": "cbd7b44d",
   "metadata": {},
   "source": [
    "## 2️⃣ Model 1 – Random Forest Classifier"
   ]
  },
  {
   "cell_type": "code",
   "execution_count": 5,
   "id": "f7afc464",
   "metadata": {},
   "outputs": [
    {
     "name": "stdout",
     "output_type": "stream",
     "text": [
      "✅ Random Forest Accuracy: 0.6290322580645161\n",
      "\n",
      "🔍 Classification Report:\n",
      "               precision    recall  f1-score   support\n",
      "\n",
      "           0       0.62      0.67      0.65       187\n",
      "           1       0.64      0.58      0.61       185\n",
      "\n",
      "    accuracy                           0.63       372\n",
      "   macro avg       0.63      0.63      0.63       372\n",
      "weighted avg       0.63      0.63      0.63       372\n",
      "\n",
      "\n",
      "📊 Confusion Matrix:\n",
      " [[126  61]\n",
      " [ 77 108]]\n"
     ]
    }
   ],
   "source": [
    "import pandas as pd\n",
    "from sklearn.model_selection import train_test_split\n",
    "from sklearn.ensemble import RandomForestClassifier\n",
    "from sklearn.metrics import classification_report, accuracy_score, confusion_matrix\n",
    "\n",
    "# Load dataset\n",
    "df = pd.read_csv(\"processed_data.csv\")\n",
    "\n",
    "# Preprocessing\n",
    "df['Views'] = pd.to_numeric(df['Views'], errors='coerce')\n",
    "df['Duration'] = pd.to_numeric(df['Duration'], errors='coerce')\n",
    "df['Publication Time'] = pd.to_datetime(df['Publication Time'], errors='coerce')\n",
    "df.dropna(subset=['Views', 'Duration', 'Publication Time'], inplace=True)\n",
    "\n",
    "# Create target\n",
    "df['Trending'] = (df['Views'] > df['Views'].median()).astype(int)\n",
    "\n",
    "# Features\n",
    "topic_cols = [col for col in df.columns if col.startswith('Topic_')]\n",
    "lang_cols = [col for col in df.columns if col.startswith('Language_')]\n",
    "df['Hour'] = df['Publication Time'].dt.hour\n",
    "\n",
    "X = df[topic_cols + lang_cols + ['Duration', 'Hour']]\n",
    "y = df['Trending']\n",
    "\n",
    "# Split the data\n",
    "X_train, X_test, y_train, y_test = train_test_split(X, y, test_size=0.2, random_state=42)\n",
    "\n",
    "# Train a Random Forest model\n",
    "rf_model = RandomForestClassifier(n_estimators=100, random_state=42)\n",
    "rf_model.fit(X_train, y_train)\n",
    "\n",
    "# Prediction and evaluation\n",
    "y_pred_rf = rf_model.predict(X_test)\n",
    "print(\"✅ Random Forest Accuracy:\", accuracy_score(y_test, y_pred_rf))\n",
    "print(\"\\n🔍 Classification Report:\\n\", classification_report(y_test, y_pred_rf))\n",
    "print(\"\\n📊 Confusion Matrix:\\n\", confusion_matrix(y_test, y_pred_rf))\n"
   ]
  },
  {
   "cell_type": "markdown",
   "id": "213a7349",
   "metadata": {},
   "source": [
    "## 3️⃣ Model 2 – Support Vector Machine (SVM)"
   ]
  },
  {
   "cell_type": "code",
   "execution_count": 6,
   "id": "15a32fbd",
   "metadata": {},
   "outputs": [
    {
     "name": "stdout",
     "output_type": "stream",
     "text": [
      "✅ SVM Accuracy: 0.6182795698924731\n",
      "\n",
      "🔍 Classification Report:\n",
      "               precision    recall  f1-score   support\n",
      "\n",
      "           0       0.62      0.64      0.63       187\n",
      "           1       0.62      0.60      0.61       185\n",
      "\n",
      "    accuracy                           0.62       372\n",
      "   macro avg       0.62      0.62      0.62       372\n",
      "weighted avg       0.62      0.62      0.62       372\n",
      "\n",
      "\n",
      "📊 Confusion Matrix:\n",
      " [[119  68]\n",
      " [ 74 111]]\n"
     ]
    }
   ],
   "source": [
    "import pandas as pd\n",
    "from sklearn.model_selection import train_test_split\n",
    "from sklearn.preprocessing import StandardScaler\n",
    "from sklearn.svm import SVC\n",
    "from sklearn.metrics import accuracy_score, classification_report, confusion_matrix\n",
    "\n",
    "# Load dataset\n",
    "df = pd.read_csv(\"processed_data.csv\")\n",
    "\n",
    "# Preprocessing\n",
    "df['Views'] = pd.to_numeric(df['Views'], errors='coerce')\n",
    "df['Duration'] = pd.to_numeric(df['Duration'], errors='coerce')\n",
    "df['Publication Time'] = pd.to_datetime(df['Publication Time'], errors='coerce')\n",
    "df.dropna(subset=['Views', 'Duration', 'Publication Time'], inplace=True)\n",
    "\n",
    "# Create target\n",
    "df['Trending'] = (df['Views'] > df['Views'].median()).astype(int)\n",
    "\n",
    "# Features\n",
    "topic_cols = [col for col in df.columns if col.startswith('Topic_')]\n",
    "lang_cols = [col for col in df.columns if col.startswith('Language_')]\n",
    "df['Hour'] = df['Publication Time'].dt.hour\n",
    "\n",
    "X = df[topic_cols + lang_cols + ['Duration', 'Hour']]\n",
    "y = df['Trending']\n",
    "\n",
    "# Split data\n",
    "X_train, X_test, y_train, y_test = train_test_split(X, y, test_size=0.2, random_state=42)\n",
    "\n",
    "# Feature scaling (important for SVM)\n",
    "scaler = StandardScaler()\n",
    "X_train_scaled = scaler.fit_transform(X_train)\n",
    "X_test_scaled = scaler.transform(X_test)\n",
    "\n",
    "# SVM model\n",
    "svm_model = SVC()\n",
    "svm_model.fit(X_train_scaled, y_train)\n",
    "\n",
    "# Predict\n",
    "y_pred_svm = svm_model.predict(X_test_scaled)\n",
    "\n",
    "# Evaluation\n",
    "print(\"✅ SVM Accuracy:\", accuracy_score(y_test, y_pred_svm))\n",
    "print(\"\\n🔍 Classification Report:\\n\", classification_report(y_test, y_pred_svm))\n",
    "print(\"\\n📊 Confusion Matrix:\\n\", confusion_matrix(y_test, y_pred_svm))\n"
   ]
  },
  {
   "cell_type": "markdown",
   "id": "3ce68267",
   "metadata": {},
   "source": [
    "# 📈 Evaluation Summary & Observations\n",
    "\n",
    "### 📌 Model Comparison Summary:\n",
    "- **Logistic Regression**: Served as a strong baseline model with decent accuracy and interpretability.\n",
    "- **Random Forest**: Achieved higher accuracy and better generalization by capturing complex feature interactions.\n",
    "- **Support Vector Machine (SVM)**: Showed solid performance, especially after scaling, but might be computationally expensive on larger datasets.\n"
   ]
  },
  {
   "cell_type": "markdown",
   "id": "eb39effe",
   "metadata": {},
   "source": [
    "After training and evaluating three classification models — **Baseline modle**, **Random Forest Classifier**, and **Support Vector Machine (SVM)** — we analyzed their performance based on the following metrics:\n",
    "\n",
    "---"
   ]
  },
  {
   "cell_type": "markdown",
   "id": "3ba6f420",
   "metadata": {},
   "source": [
    "- **Accuracy**:\n",
    "  - Baseline modle: `49.7312%`\n",
    "  - Random Forest: `62.90%`\n",
    "  - SVM: `61.82%`\n",
    "  - ✅ Highest accuracy was achieved by **[Random Forest]**."
   ]
  }
 ],
 "metadata": {
  "kernelspec": {
   "display_name": "Python 3",
   "language": "python",
   "name": "python3"
  },
  "language_info": {
   "codemirror_mode": {
    "name": "ipython",
    "version": 3
   },
   "file_extension": ".py",
   "mimetype": "text/x-python",
   "name": "python",
   "nbconvert_exporter": "python",
   "pygments_lexer": "ipython3",
   "version": "3.12.1"
  }
 },
 "nbformat": 4,
 "nbformat_minor": 5
}
